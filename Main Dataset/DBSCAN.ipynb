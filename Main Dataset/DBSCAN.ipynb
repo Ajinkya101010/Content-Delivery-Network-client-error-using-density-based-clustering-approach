{
 "cells": [
  {
   "cell_type": "code",
   "execution_count": 30,
   "id": "2b6a5a6b",
   "metadata": {},
   "outputs": [],
   "source": [
    "import pandas as pd\n",
    "import numpy as np\n",
    "import random as rnd\n",
    "import seaborn as sns\n",
    "import matplotlib.pyplot as plt"
   ]
  },
  {
   "cell_type": "code",
   "execution_count": 31,
   "id": "5dc09925",
   "metadata": {},
   "outputs": [
    {
     "data": {
      "text/html": [
       "<div>\n",
       "<style scoped>\n",
       "    .dataframe tbody tr th:only-of-type {\n",
       "        vertical-align: middle;\n",
       "    }\n",
       "\n",
       "    .dataframe tbody tr th {\n",
       "        vertical-align: top;\n",
       "    }\n",
       "\n",
       "    .dataframe thead th {\n",
       "        text-align: right;\n",
       "    }\n",
       "</style>\n",
       "<table border=\"1\" class=\"dataframe\">\n",
       "  <thead>\n",
       "    <tr style=\"text-align: right;\">\n",
       "      <th></th>\n",
       "      <th>statuscode</th>\n",
       "      <th>contenttype</th>\n",
       "      <th>protocol</th>\n",
       "      <th>contentlength</th>\n",
       "      <th>timefirstbyte</th>\n",
       "      <th>timetoserv</th>\n",
       "      <th>maxage</th>\n",
       "      <th>osfamily</th>\n",
       "      <th>sid</th>\n",
       "      <th>cachecontrol</th>\n",
       "      <th>...</th>\n",
       "      <th>devicebrand</th>\n",
       "      <th>host</th>\n",
       "      <th>method</th>\n",
       "      <th>manifest</th>\n",
       "      <th>assetnumber</th>\n",
       "      <th>hit</th>\n",
       "      <th>@version</th>\n",
       "      <th>cachename</th>\n",
       "      <th>popname</th>\n",
       "      <th>uid</th>\n",
       "    </tr>\n",
       "  </thead>\n",
       "  <tbody>\n",
       "    <tr>\n",
       "      <th>0</th>\n",
       "      <td>404</td>\n",
       "      <td>NaN</td>\n",
       "      <td>HTTP/1.1</td>\n",
       "      <td>0.000000</td>\n",
       "      <td>0.069129</td>\n",
       "      <td>0.069188</td>\n",
       "      <td>NaN</td>\n",
       "      <td>0.0</td>\n",
       "      <td>3815.0</td>\n",
       "      <td>Cache-Control:</td>\n",
       "      <td>...</td>\n",
       "      <td>NaN</td>\n",
       "      <td>0.0</td>\n",
       "      <td>GET</td>\n",
       "      <td>False</td>\n",
       "      <td>NaN</td>\n",
       "      <td>miss</td>\n",
       "      <td>1</td>\n",
       "      <td>0</td>\n",
       "      <td>0</td>\n",
       "      <td>NaN</td>\n",
       "    </tr>\n",
       "    <tr>\n",
       "      <th>1</th>\n",
       "      <td>404</td>\n",
       "      <td>NaN</td>\n",
       "      <td>HTTP/1.1</td>\n",
       "      <td>0.000000</td>\n",
       "      <td>0.077291</td>\n",
       "      <td>0.077333</td>\n",
       "      <td>NaN</td>\n",
       "      <td>0.0</td>\n",
       "      <td>3320.0</td>\n",
       "      <td>Cache-Control:</td>\n",
       "      <td>...</td>\n",
       "      <td>NaN</td>\n",
       "      <td>0.0</td>\n",
       "      <td>GET</td>\n",
       "      <td>False</td>\n",
       "      <td>NaN</td>\n",
       "      <td>miss</td>\n",
       "      <td>1</td>\n",
       "      <td>0</td>\n",
       "      <td>0</td>\n",
       "      <td>NaN</td>\n",
       "    </tr>\n",
       "    <tr>\n",
       "      <th>2</th>\n",
       "      <td>404</td>\n",
       "      <td>application/octet-stream</td>\n",
       "      <td>HTTP/1.1</td>\n",
       "      <td>0.206349</td>\n",
       "      <td>0.049394</td>\n",
       "      <td>0.049450</td>\n",
       "      <td>3600.0</td>\n",
       "      <td>0.0</td>\n",
       "      <td>4170.0</td>\n",
       "      <td>Cache-Control:max-age=3600</td>\n",
       "      <td>...</td>\n",
       "      <td>NaN</td>\n",
       "      <td>13.0</td>\n",
       "      <td>GET</td>\n",
       "      <td>False</td>\n",
       "      <td>NaN</td>\n",
       "      <td>miss</td>\n",
       "      <td>1</td>\n",
       "      <td>0</td>\n",
       "      <td>0</td>\n",
       "      <td>NaN</td>\n",
       "    </tr>\n",
       "    <tr>\n",
       "      <th>3</th>\n",
       "      <td>404</td>\n",
       "      <td>NaN</td>\n",
       "      <td>HTTP/1.1</td>\n",
       "      <td>0.000000</td>\n",
       "      <td>0.069060</td>\n",
       "      <td>0.069112</td>\n",
       "      <td>NaN</td>\n",
       "      <td>3.0</td>\n",
       "      <td>4518.0</td>\n",
       "      <td>Cache-Control:</td>\n",
       "      <td>...</td>\n",
       "      <td>1.0</td>\n",
       "      <td>0.0</td>\n",
       "      <td>GET</td>\n",
       "      <td>False</td>\n",
       "      <td>NaN</td>\n",
       "      <td>miss</td>\n",
       "      <td>1</td>\n",
       "      <td>0</td>\n",
       "      <td>0</td>\n",
       "      <td>NaN</td>\n",
       "    </tr>\n",
       "    <tr>\n",
       "      <th>4</th>\n",
       "      <td>404</td>\n",
       "      <td>NaN</td>\n",
       "      <td>HTTP/1.1</td>\n",
       "      <td>0.000000</td>\n",
       "      <td>0.104557</td>\n",
       "      <td>0.104600</td>\n",
       "      <td>NaN</td>\n",
       "      <td>0.0</td>\n",
       "      <td>4727.0</td>\n",
       "      <td>Cache-Control:</td>\n",
       "      <td>...</td>\n",
       "      <td>NaN</td>\n",
       "      <td>0.0</td>\n",
       "      <td>GET</td>\n",
       "      <td>False</td>\n",
       "      <td>NaN</td>\n",
       "      <td>miss</td>\n",
       "      <td>1</td>\n",
       "      <td>0</td>\n",
       "      <td>0</td>\n",
       "      <td>NaN</td>\n",
       "    </tr>\n",
       "  </tbody>\n",
       "</table>\n",
       "<p>5 rows × 30 columns</p>\n",
       "</div>"
      ],
      "text/plain": [
       "   statuscode               contenttype  protocol  contentlength  \\\n",
       "0         404                       NaN  HTTP/1.1       0.000000   \n",
       "1         404                       NaN  HTTP/1.1       0.000000   \n",
       "2         404  application/octet-stream  HTTP/1.1       0.206349   \n",
       "3         404                       NaN  HTTP/1.1       0.000000   \n",
       "4         404                       NaN  HTTP/1.1       0.000000   \n",
       "\n",
       "   timefirstbyte  timetoserv  maxage  osfamily     sid  \\\n",
       "0       0.069129    0.069188     NaN       0.0  3815.0   \n",
       "1       0.077291    0.077333     NaN       0.0  3320.0   \n",
       "2       0.049394    0.049450  3600.0       0.0  4170.0   \n",
       "3       0.069060    0.069112     NaN       3.0  4518.0   \n",
       "4       0.104557    0.104600     NaN       0.0  4727.0   \n",
       "\n",
       "                 cachecontrol  ...  devicebrand  host  method  manifest  \\\n",
       "0              Cache-Control:  ...          NaN   0.0     GET     False   \n",
       "1              Cache-Control:  ...          NaN   0.0     GET     False   \n",
       "2  Cache-Control:max-age=3600  ...          NaN  13.0     GET     False   \n",
       "3              Cache-Control:  ...          1.0   0.0     GET     False   \n",
       "4              Cache-Control:  ...          NaN   0.0     GET     False   \n",
       "\n",
       "   assetnumber   hit  @version  cachename  popname  uid  \n",
       "0          NaN  miss         1          0        0  NaN  \n",
       "1          NaN  miss         1          0        0  NaN  \n",
       "2          NaN  miss         1          0        0  NaN  \n",
       "3          NaN  miss         1          0        0  NaN  \n",
       "4          NaN  miss         1          0        0  NaN  \n",
       "\n",
       "[5 rows x 30 columns]"
      ]
     },
     "execution_count": 31,
     "metadata": {},
     "output_type": "execute_result"
    }
   ],
   "source": [
    "df = pd.read_csv('ALLerrordataset.csv')\n",
    "df.head()"
   ]
  },
  {
   "cell_type": "code",
   "execution_count": 63,
   "id": "8f7b695a",
   "metadata": {},
   "outputs": [],
   "source": [
    "df=df.drop(labels=[\"fragment\",\"manifest\",\"hit\",\"@version\",\"popname\"],axis=1)"
   ]
  },
  {
   "cell_type": "code",
   "execution_count": 64,
   "id": "99521e40",
   "metadata": {},
   "outputs": [],
   "source": [
    "df=df.drop(labels=[\"timefirstbyte\",\"contentlength\",\"timetoserv\",\"maxage\",\"sid\"],axis=1)"
   ]
  },
  {
   "cell_type": "code",
   "execution_count": 65,
   "id": "f0a04ddc",
   "metadata": {},
   "outputs": [],
   "source": [
    "df=df.drop(labels=[\"path\",\"uid\"],axis=1)"
   ]
  },
  {
   "cell_type": "code",
   "execution_count": 66,
   "id": "1cebe3eb",
   "metadata": {},
   "outputs": [],
   "source": [
    "df=df.drop(labels=[\"contentpackage\",\"devicemodel\",\"devicebrand\", \"assetnumber\"],axis=1)"
   ]
  },
  {
   "cell_type": "code",
   "execution_count": 67,
   "id": "727facf6",
   "metadata": {},
   "outputs": [],
   "source": [
    "df=df.drop(labels=[\"protocol\",\"osfamily\", \"coordinates\"],axis=1)"
   ]
  },
  {
   "cell_type": "code",
   "execution_count": 9,
   "id": "ebbe57e9",
   "metadata": {},
   "outputs": [],
   "source": [
    "df_livetv = df[df['host'] == 7]"
   ]
  },
  {
   "cell_type": "code",
   "execution_count": 10,
   "id": "eb03c324",
   "metadata": {},
   "outputs": [],
   "source": [
    "df_livetv=df_livetv.drop(labels=[\"cachecontrol\"],axis=1)"
   ]
  },
  {
   "cell_type": "code",
   "execution_count": 11,
   "id": "ca074358",
   "metadata": {},
   "outputs": [],
   "source": [
    "df_livetv=df_livetv.drop(labels=[\"uamajor\"],axis=1)"
   ]
  },
  {
   "cell_type": "code",
   "execution_count": 12,
   "id": "2284a630",
   "metadata": {},
   "outputs": [],
   "source": [
    "df_livetv=df_livetv.drop(labels=[\"devicefamily\",\"host\",\"method\", \"cachename\"],axis=1)"
   ]
  },
  {
   "cell_type": "code",
   "execution_count": 13,
   "id": "e22f9345",
   "metadata": {},
   "outputs": [
    {
     "data": {
      "text/html": [
       "<div>\n",
       "<style scoped>\n",
       "    .dataframe tbody tr th:only-of-type {\n",
       "        vertical-align: middle;\n",
       "    }\n",
       "\n",
       "    .dataframe tbody tr th {\n",
       "        vertical-align: top;\n",
       "    }\n",
       "\n",
       "    .dataframe thead th {\n",
       "        text-align: right;\n",
       "    }\n",
       "</style>\n",
       "<table border=\"1\" class=\"dataframe\">\n",
       "  <thead>\n",
       "    <tr style=\"text-align: right;\">\n",
       "      <th></th>\n",
       "      <th>statuscode</th>\n",
       "      <th>contenttype</th>\n",
       "      <th>uafamily</th>\n",
       "      <th>@timestamp</th>\n",
       "      <th>livechannel</th>\n",
       "    </tr>\n",
       "  </thead>\n",
       "  <tbody>\n",
       "    <tr>\n",
       "      <th>70</th>\n",
       "      <td>400</td>\n",
       "      <td>text/html; charset=utf-8</td>\n",
       "      <td>12.0</td>\n",
       "      <td>2088-05-13T07:18:16.000Z</td>\n",
       "      <td>NaN</td>\n",
       "    </tr>\n",
       "    <tr>\n",
       "      <th>73</th>\n",
       "      <td>400</td>\n",
       "      <td>text/html; charset=utf-8</td>\n",
       "      <td>12.0</td>\n",
       "      <td>2088-05-13T07:25:04.000Z</td>\n",
       "      <td>NaN</td>\n",
       "    </tr>\n",
       "    <tr>\n",
       "      <th>74</th>\n",
       "      <td>400</td>\n",
       "      <td>text/html; charset=utf-8</td>\n",
       "      <td>12.0</td>\n",
       "      <td>2088-05-13T07:54:31.000Z</td>\n",
       "      <td>NaN</td>\n",
       "    </tr>\n",
       "    <tr>\n",
       "      <th>75</th>\n",
       "      <td>400</td>\n",
       "      <td>text/html; charset=utf-8</td>\n",
       "      <td>12.0</td>\n",
       "      <td>2088-05-13T08:27:31.000Z</td>\n",
       "      <td>NaN</td>\n",
       "    </tr>\n",
       "    <tr>\n",
       "      <th>79</th>\n",
       "      <td>412</td>\n",
       "      <td>text/html</td>\n",
       "      <td>12.0</td>\n",
       "      <td>2088-05-13T16:42:10.000Z</td>\n",
       "      <td>60.0</td>\n",
       "    </tr>\n",
       "  </tbody>\n",
       "</table>\n",
       "</div>"
      ],
      "text/plain": [
       "    statuscode               contenttype  uafamily                @timestamp  \\\n",
       "70         400  text/html; charset=utf-8      12.0  2088-05-13T07:18:16.000Z   \n",
       "73         400  text/html; charset=utf-8      12.0  2088-05-13T07:25:04.000Z   \n",
       "74         400  text/html; charset=utf-8      12.0  2088-05-13T07:54:31.000Z   \n",
       "75         400  text/html; charset=utf-8      12.0  2088-05-13T08:27:31.000Z   \n",
       "79         412                 text/html      12.0  2088-05-13T16:42:10.000Z   \n",
       "\n",
       "    livechannel  \n",
       "70          NaN  \n",
       "73          NaN  \n",
       "74          NaN  \n",
       "75          NaN  \n",
       "79         60.0  "
      ]
     },
     "execution_count": 13,
     "metadata": {},
     "output_type": "execute_result"
    }
   ],
   "source": [
    "df_livetv.head()"
   ]
  },
  {
   "cell_type": "code",
   "execution_count": 14,
   "id": "8d8b9211",
   "metadata": {},
   "outputs": [],
   "source": [
    "df_jii = df_livetv['@timestamp']  "
   ]
  },
  {
   "cell_type": "code",
   "execution_count": 15,
   "id": "1e5b3cc8",
   "metadata": {},
   "outputs": [],
   "source": [
    "from datetime import datetime\n",
    "format_data = \"%Y-%m-%dT%H:%M:%S.%fZ\"\n",
    "gh=[]\n",
    "ml=[]\n",
    "for i in df_jii:\n",
    "    date = datetime.strptime(i, format_data)\n",
    "    gh.append(date.hour)\n",
    "    ml.append(date.minute)"
   ]
  },
  {
   "cell_type": "code",
   "execution_count": 16,
   "id": "f6b00427",
   "metadata": {},
   "outputs": [],
   "source": [
    "df_livetv['hour'] = gh"
   ]
  },
  {
   "cell_type": "code",
   "execution_count": 37,
   "id": "51cb5589",
   "metadata": {},
   "outputs": [],
   "source": [
    "df_livetv=df_livetv.drop(labels=[\"@timestamp\"],axis=1)"
   ]
  },
  {
   "cell_type": "code",
   "execution_count": 38,
   "id": "b7d87d37",
   "metadata": {},
   "outputs": [],
   "source": [
    "km = df_livetv.copy()"
   ]
  },
  {
   "cell_type": "code",
   "execution_count": 39,
   "id": "d7f38c7d",
   "metadata": {},
   "outputs": [],
   "source": [
    "km1 = df_livetv.copy()"
   ]
  },
  {
   "cell_type": "code",
   "execution_count": 40,
   "id": "969dc3c4",
   "metadata": {},
   "outputs": [
    {
     "data": {
      "text/html": [
       "<div>\n",
       "<style scoped>\n",
       "    .dataframe tbody tr th:only-of-type {\n",
       "        vertical-align: middle;\n",
       "    }\n",
       "\n",
       "    .dataframe tbody tr th {\n",
       "        vertical-align: top;\n",
       "    }\n",
       "\n",
       "    .dataframe thead th {\n",
       "        text-align: right;\n",
       "    }\n",
       "</style>\n",
       "<table border=\"1\" class=\"dataframe\">\n",
       "  <thead>\n",
       "    <tr style=\"text-align: right;\">\n",
       "      <th></th>\n",
       "      <th>statuscode</th>\n",
       "      <th>contenttype</th>\n",
       "      <th>uafamily</th>\n",
       "      <th>livechannel</th>\n",
       "      <th>hour</th>\n",
       "    </tr>\n",
       "  </thead>\n",
       "  <tbody>\n",
       "    <tr>\n",
       "      <th>70</th>\n",
       "      <td>400</td>\n",
       "      <td>text/html; charset=utf-8</td>\n",
       "      <td>12.0</td>\n",
       "      <td>NaN</td>\n",
       "      <td>7</td>\n",
       "    </tr>\n",
       "    <tr>\n",
       "      <th>73</th>\n",
       "      <td>400</td>\n",
       "      <td>text/html; charset=utf-8</td>\n",
       "      <td>12.0</td>\n",
       "      <td>NaN</td>\n",
       "      <td>7</td>\n",
       "    </tr>\n",
       "    <tr>\n",
       "      <th>74</th>\n",
       "      <td>400</td>\n",
       "      <td>text/html; charset=utf-8</td>\n",
       "      <td>12.0</td>\n",
       "      <td>NaN</td>\n",
       "      <td>7</td>\n",
       "    </tr>\n",
       "    <tr>\n",
       "      <th>75</th>\n",
       "      <td>400</td>\n",
       "      <td>text/html; charset=utf-8</td>\n",
       "      <td>12.0</td>\n",
       "      <td>NaN</td>\n",
       "      <td>8</td>\n",
       "    </tr>\n",
       "    <tr>\n",
       "      <th>79</th>\n",
       "      <td>412</td>\n",
       "      <td>text/html</td>\n",
       "      <td>12.0</td>\n",
       "      <td>60.0</td>\n",
       "      <td>16</td>\n",
       "    </tr>\n",
       "  </tbody>\n",
       "</table>\n",
       "</div>"
      ],
      "text/plain": [
       "    statuscode               contenttype  uafamily  livechannel  hour\n",
       "70         400  text/html; charset=utf-8      12.0          NaN     7\n",
       "73         400  text/html; charset=utf-8      12.0          NaN     7\n",
       "74         400  text/html; charset=utf-8      12.0          NaN     7\n",
       "75         400  text/html; charset=utf-8      12.0          NaN     8\n",
       "79         412                 text/html      12.0         60.0    16"
      ]
     },
     "execution_count": 40,
     "metadata": {},
     "output_type": "execute_result"
    }
   ],
   "source": [
    "km.head()"
   ]
  },
  {
   "cell_type": "code",
   "execution_count": 41,
   "id": "6813eda5",
   "metadata": {},
   "outputs": [],
   "source": [
    "km['uafamily']=km['uafamily'].fillna(km['uafamily'].mode()[0])\n",
    "km['contenttype']=km['contenttype'].fillna(km['contenttype'].mode()[0])\n",
    "km['livechannel']=km['livechannel'].fillna(km['livechannel'].mode()[0])"
   ]
  },
  {
   "cell_type": "code",
   "execution_count": 42,
   "id": "c60eda1b",
   "metadata": {},
   "outputs": [],
   "source": [
    "km1['uafamily']=km1['uafamily'].fillna(km1['uafamily'].mode()[0])\n",
    "km1['contenttype']=km1['contenttype'].fillna(km1['contenttype'].mode()[0])\n",
    "km1['livechannel']=km1['livechannel'].fillna(km1['livechannel'].mode()[0])"
   ]
  },
  {
   "cell_type": "code",
   "execution_count": 43,
   "id": "086af38a",
   "metadata": {},
   "outputs": [],
   "source": [
    "km1.drop_duplicates(subset=None, keep='first', inplace=True)"
   ]
  },
  {
   "cell_type": "code",
   "execution_count": 44,
   "id": "c2571b19",
   "metadata": {},
   "outputs": [],
   "source": [
    "km.drop_duplicates(subset=None, keep='first', inplace=True)"
   ]
  },
  {
   "cell_type": "code",
   "execution_count": 45,
   "id": "bf23150f",
   "metadata": {},
   "outputs": [
    {
     "name": "stdout",
     "output_type": "stream",
     "text": [
      "<class 'pandas.core.frame.DataFrame'>\n",
      "Int64Index: 105 entries, 70 to 283104\n",
      "Data columns (total 5 columns):\n",
      " #   Column       Non-Null Count  Dtype  \n",
      "---  ------       --------------  -----  \n",
      " 0   statuscode   105 non-null    int64  \n",
      " 1   contenttype  105 non-null    object \n",
      " 2   uafamily     105 non-null    float64\n",
      " 3   livechannel  105 non-null    float64\n",
      " 4   hour         105 non-null    int64  \n",
      "dtypes: float64(2), int64(2), object(1)\n",
      "memory usage: 4.9+ KB\n"
     ]
    }
   ],
   "source": [
    "km.info()"
   ]
  },
  {
   "cell_type": "code",
   "execution_count": 26,
   "id": "cb0ceed9",
   "metadata": {},
   "outputs": [
    {
     "name": "stdout",
     "output_type": "stream",
     "text": [
      "Requirement already satisfied: gower in c:\\users\\ajinkya waghulikar\\anaconda3\\lib\\site-packages (0.0.5)\n",
      "Requirement already satisfied: numpy in c:\\users\\ajinkya waghulikar\\anaconda3\\lib\\site-packages (from gower) (1.20.3)\n",
      "Requirement already satisfied: scipy in c:\\users\\ajinkya waghulikar\\anaconda3\\lib\\site-packages (from gower) (1.7.1)\n",
      "Requirement already satisfied: scikit-learn-extra in c:\\users\\ajinkya waghulikar\\anaconda3\\lib\\site-packages (0.2.0)\n",
      "Requirement already satisfied: scikit-learn>=0.23.0 in c:\\users\\ajinkya waghulikar\\anaconda3\\lib\\site-packages (from scikit-learn-extra) (1.0.2)\n",
      "Requirement already satisfied: scipy>=0.19.1 in c:\\users\\ajinkya waghulikar\\anaconda3\\lib\\site-packages (from scikit-learn-extra) (1.7.1)\n",
      "Requirement already satisfied: numpy>=1.13.3 in c:\\users\\ajinkya waghulikar\\anaconda3\\lib\\site-packages (from scikit-learn-extra) (1.20.3)\n",
      "Requirement already satisfied: threadpoolctl>=2.0.0 in c:\\users\\ajinkya waghulikar\\anaconda3\\lib\\site-packages (from scikit-learn>=0.23.0->scikit-learn-extra) (2.2.0)\n",
      "Requirement already satisfied: joblib>=0.11 in c:\\users\\ajinkya waghulikar\\anaconda3\\lib\\site-packages (from scikit-learn>=0.23.0->scikit-learn-extra) (1.1.0)\n"
     ]
    }
   ],
   "source": [
    "!pip install gower\n",
    "!pip install scikit-learn-extra"
   ]
  },
  {
   "cell_type": "code",
   "execution_count": 46,
   "id": "e42e5379",
   "metadata": {},
   "outputs": [],
   "source": [
    "import gower\n",
    "from sklearn_extra.cluster import KMedoids\n",
    "gower_mat = gower.gower_matrix(km)"
   ]
  },
  {
   "cell_type": "code",
   "execution_count": 51,
   "id": "61802d73",
   "metadata": {},
   "outputs": [],
   "source": [
    "from sklearn.cluster import DBSCAN\n",
    "dbscan_cluster = DBSCAN(eps=0.259, min_samples=15, metric=\"minkowski\", p=2,metric_params={\"w\":np.ones(len(gower_mat))})\n",
    "dbscan_cluster.fit(gower_mat_1)\n",
    "labels=dbscan_cluster.labels_"
   ]
  },
  {
   "cell_type": "code",
   "execution_count": 52,
   "id": "a182972d",
   "metadata": {},
   "outputs": [
    {
     "name": "stdout",
     "output_type": "stream",
     "text": [
      "0.13764608211128243\n"
     ]
    }
   ],
   "source": [
    "dbscan_score = DBCV(gower_mat, labels)\n",
    "print(dbscan_score)"
   ]
  },
  {
   "cell_type": "code",
   "execution_count": 70,
   "id": "4f723cb2",
   "metadata": {},
   "outputs": [],
   "source": [
    "gower_mat = gower.gower_matrix(km)"
   ]
  },
  {
   "cell_type": "code",
   "execution_count": 30,
   "id": "e27844c7",
   "metadata": {},
   "outputs": [
    {
     "name": "stdout",
     "output_type": "stream",
     "text": [
      "Requirement already satisfied: chart_studio in c:\\users\\ajinkya waghulikar\\anaconda3\\lib\\site-packages (1.1.0)\n",
      "Requirement already satisfied: requests in c:\\users\\ajinkya waghulikar\\anaconda3\\lib\\site-packages (from chart_studio) (2.26.0)\n",
      "Requirement already satisfied: plotly in c:\\users\\ajinkya waghulikar\\anaconda3\\lib\\site-packages (from chart_studio) (5.6.0)\n",
      "Requirement already satisfied: six in c:\\users\\ajinkya waghulikar\\anaconda3\\lib\\site-packages (from chart_studio) (1.16.0)\n",
      "Requirement already satisfied: retrying>=1.3.3 in c:\\users\\ajinkya waghulikar\\anaconda3\\lib\\site-packages (from chart_studio) (1.3.3)\n",
      "Requirement already satisfied: tenacity>=6.2.0 in c:\\users\\ajinkya waghulikar\\anaconda3\\lib\\site-packages (from plotly->chart_studio) (8.0.1)\n",
      "Requirement already satisfied: certifi>=2017.4.17 in c:\\users\\ajinkya waghulikar\\anaconda3\\lib\\site-packages (from requests->chart_studio) (2021.10.8)\n",
      "Requirement already satisfied: charset-normalizer~=2.0.0 in c:\\users\\ajinkya waghulikar\\anaconda3\\lib\\site-packages (from requests->chart_studio) (2.0.4)\n",
      "Requirement already satisfied: idna<4,>=2.5 in c:\\users\\ajinkya waghulikar\\anaconda3\\lib\\site-packages (from requests->chart_studio) (3.2)\n",
      "Requirement already satisfied: urllib3<1.27,>=1.21.1 in c:\\users\\ajinkya waghulikar\\anaconda3\\lib\\site-packages (from requests->chart_studio) (1.26.7)\n",
      "Note: you may need to restart the kernel to use updated packages.\n"
     ]
    }
   ],
   "source": [
    "%pip install chart_studio"
   ]
  },
  {
   "cell_type": "code",
   "execution_count": 31,
   "id": "aae2f630",
   "metadata": {},
   "outputs": [
    {
     "name": "stdout",
     "output_type": "stream",
     "text": [
      "Requirement already satisfied: numpy in c:\\users\\ajinkya waghulikar\\anaconda3\\lib\\site-packages (1.20.3)\n",
      "Note: you may need to restart the kernel to use updated packages.\n",
      "Requirement already satisfied: seaborn in c:\\users\\ajinkya waghulikar\\anaconda3\\lib\\site-packages (0.11.2)\n",
      "Requirement already satisfied: numpy>=1.15 in c:\\users\\ajinkya waghulikar\\anaconda3\\lib\\site-packages (from seaborn) (1.20.3)\n",
      "Requirement already satisfied: matplotlib>=2.2 in c:\\users\\ajinkya waghulikar\\anaconda3\\lib\\site-packages (from seaborn) (3.4.3)\n",
      "Requirement already satisfied: pandas>=0.23 in c:\\users\\ajinkya waghulikar\\anaconda3\\lib\\site-packages (from seaborn) (1.3.4)\n",
      "Requirement already satisfied: scipy>=1.0 in c:\\users\\ajinkya waghulikar\\anaconda3\\lib\\site-packages (from seaborn) (1.7.1)\n",
      "Requirement already satisfied: pillow>=6.2.0 in c:\\users\\ajinkya waghulikar\\anaconda3\\lib\\site-packages (from matplotlib>=2.2->seaborn) (8.4.0)\n",
      "Requirement already satisfied: pyparsing>=2.2.1 in c:\\users\\ajinkya waghulikar\\anaconda3\\lib\\site-packages (from matplotlib>=2.2->seaborn) (3.0.4)\n",
      "Requirement already satisfied: kiwisolver>=1.0.1 in c:\\users\\ajinkya waghulikar\\anaconda3\\lib\\site-packages (from matplotlib>=2.2->seaborn) (1.3.1)\n",
      "Requirement already satisfied: cycler>=0.10 in c:\\users\\ajinkya waghulikar\\anaconda3\\lib\\site-packages (from matplotlib>=2.2->seaborn) (0.10.0)\n",
      "Requirement already satisfied: python-dateutil>=2.7 in c:\\users\\ajinkya waghulikar\\anaconda3\\lib\\site-packages (from matplotlib>=2.2->seaborn) (2.8.2)\n",
      "Requirement already satisfied: six in c:\\users\\ajinkya waghulikar\\anaconda3\\lib\\site-packages (from cycler>=0.10->matplotlib>=2.2->seaborn) (1.16.0)\n",
      "Requirement already satisfied: pytz>=2017.3 in c:\\users\\ajinkya waghulikar\\anaconda3\\lib\\site-packages (from pandas>=0.23->seaborn) (2021.3)\n",
      "Note: you may need to restart the kernel to use updated packages.\n",
      "Requirement already satisfied: plotly in c:\\users\\ajinkya waghulikar\\anaconda3\\lib\\site-packages (5.6.0)\n",
      "Requirement already satisfied: tenacity>=6.2.0 in c:\\users\\ajinkya waghulikar\\anaconda3\\lib\\site-packages (from plotly) (8.0.1)\n",
      "Requirement already satisfied: six in c:\\users\\ajinkya waghulikar\\anaconda3\\lib\\site-packages (from plotly) (1.16.0)\n",
      "Note: you may need to restart the kernel to use updated packages.\n"
     ]
    }
   ],
   "source": [
    "%pip install numpy\n",
    "%pip install seaborn\n",
    "%pip install plotly"
   ]
  },
  {
   "cell_type": "code",
   "execution_count": 120,
   "id": "9a065005",
   "metadata": {},
   "outputs": [
    {
     "data": {
      "text/plain": [
       "Text(0, 0.5, 'Distance')"
      ]
     },
     "execution_count": 120,
     "metadata": {},
     "output_type": "execute_result"
    },
    {
     "data": {
      "image/png": "[encoded data removed]",
      "text/plain": [
       "<Figure size 360x360 with 1 Axes>"
      ]
     },
     "metadata": {
      "needs_background": "light"
     },
     "output_type": "display_data"
    }
   ],
   "source": [
    "from sklearn.neighbors import NearestNeighbors\n",
    "\n",
    "nearest_neighbors = NearestNeighbors(n_neighbors=11)\n",
    "neighbors = nearest_neighbors.fit(gower_mat)\n",
    "\n",
    "distances, indices = neighbors.kneighbors(gower_mat)\n",
    "distances = np.sort(distances[:,4], axis=0)\n",
    "\n",
    "fig = plt.figure(figsize=(5, 5))\n",
    "plt.plot(distances)\n",
    "plt.xlabel(\"Points\")\n",
    "plt.ylabel(\"Distance\")"
   ]
  },
  {
   "cell_type": "code",
   "execution_count": 121,
   "id": "bc0c0297",
   "metadata": {},
   "outputs": [
    {
     "name": "stdout",
     "output_type": "stream",
     "text": [
      "0.25927046\n"
     ]
    },
    {
     "data": {
      "text/plain": [
       "<Figure size 360x360 with 0 Axes>"
      ]
     },
     "metadata": {},
     "output_type": "display_data"
    },
    {
     "data": {
      "image/png": "[encoded data removed]",
      "text/plain": [
       "<Figure size 432x432 with 1 Axes>"
      ]
     },
     "metadata": {
      "needs_background": "light"
     },
     "output_type": "display_data"
    }
   ],
   "source": [
    "from kneed import KneeLocator\n",
    "\n",
    "i = np.arange(len(distances))\n",
    "knee = KneeLocator(i, distances, S=1, curve='convex', direction='increasing', interp_method='polynomial')\n",
    "\n",
    "fig = plt.figure(figsize=(5, 5))\n",
    "knee.plot_knee()\n",
    "plt.xlabel(\"Points\")\n",
    "plt.ylabel(\"Distance\")\n",
    "\n",
    "print(distances[knee.knee])"
   ]
  },
  {
   "cell_type": "code",
   "execution_count": 173,
   "id": "348fcb0f",
   "metadata": {},
   "outputs": [
    {
     "name": "stdout",
     "output_type": "stream",
     "text": [
      "For minimum samples: 10\n",
      "Estimated no. of clusters: 2\n",
      "Estimated no. of noise points: 30\n",
      "For minimum samples: 11\n",
      "Estimated no. of clusters: 3\n",
      "Estimated no. of noise points: 31\n",
      "For minimum samples: 12\n",
      "Estimated no. of clusters: 3\n",
      "Estimated no. of noise points: 41\n",
      "For minimum samples: 13\n",
      "Estimated no. of clusters: 3\n",
      "Estimated no. of noise points: 42\n",
      "For minimum samples: 14\n",
      "Estimated no. of clusters: 3\n",
      "Estimated no. of noise points: 67\n",
      "For minimum samples: 15\n",
      "Estimated no. of clusters: 2\n",
      "Estimated no. of noise points: 86\n",
      "For minimum samples: 16\n",
      "Estimated no. of clusters: 2\n",
      "Estimated no. of noise points: 88\n",
      "For minimum samples: 17\n",
      "Estimated no. of clusters: 1\n",
      "Estimated no. of noise points: 104\n",
      "For minimum samples: 18\n",
      "Estimated no. of clusters: 1\n",
      "Estimated no. of noise points: 104\n",
      "For minimum samples: 19\n",
      "Estimated no. of clusters: 1\n",
      "Estimated no. of noise points: 104\n",
      "For minimum samples: 20\n",
      "Estimated no. of clusters: 1\n",
      "Estimated no. of noise points: 104\n"
     ]
    }
   ],
   "source": [
    "range_min = [10, 11, 12, 13, 14, 15, 16, 17, 18, 19, 20] \n",
    "for i in range_min:\n",
    "    dbscan_cluster = DBSCAN(eps=0.259, min_samples=i, metric=\"minkowski\", p=2,metric_params={\"w\":np.ones(len(gower_mat))})\n",
    "    dbscan_cluster.fit(gower_mat)\n",
    "    # Number of Clusters\n",
    "    print('For minimum samples: %d' % i)\n",
    "    labels=dbscan_cluster.labels_\n",
    "    N_clus=len(set(labels))-(1 if -1 in labels else 0)\n",
    "    print('Estimated no. of clusters: %d' % N_clus)\n",
    "    # Identify Noise\n",
    "    n_noise = list(dbscan_cluster.labels_).count(-1)"
   ]
  },
  {
   "cell_type": "code",
   "execution_count": 127,
   "id": "b339a730",
   "metadata": {},
   "outputs": [
    {
     "data": {
      "image/png": "[encoded data removed]",
      "text/plain": [
       "<Figure size 1440x360 with 1 Axes>"
      ]
     },
     "metadata": {
      "needs_background": "light"
     },
     "output_type": "display_data"
    }
   ],
   "source": [
    "dbscan_cluster = DBSCAN(eps=0.259, min_samples=11, metric=\"minkowski\", p=2,metric_params={\"w\":np.ones(len(gower_mat))})\n",
    "dbscan_cluster.fit(gower_mat)\n",
    "labels=dbscan_cluster.labels_\n",
    "km[\"Cluster\"] = labels\n",
    "plt.subplots(figsize = (20,5))\n",
    "ax = sns.countplot(x='Cluster',hue=\"statuscode\", data = km)\n",
    "ax.set_title('statuscode')\n",
    "ax.legend(loc='right', title=\"statuscode\")\n",
    "plt.show()"
   ]
  },
  {
   "cell_type": "code",
   "execution_count": 128,
   "id": "2c932bb2",
   "metadata": {},
   "outputs": [
    {
     "data": {
      "image/png": "[encoded data removed]",
      "text/plain": [
       "<Figure size 1440x360 with 1 Axes>"
      ]
     },
     "metadata": {
      "needs_background": "light"
     },
     "output_type": "display_data"
    }
   ],
   "source": [
    "plt.subplots(figsize = (20,5))\n",
    "ax = sns.countplot(x='Cluster',hue=\"contenttype\", data = km)\n",
    "ax.set_title('contenttype')\n",
    "ax.legend(loc='right', title=\"contenttype\")\n",
    "plt.show()"
   ]
  },
  {
   "cell_type": "code",
   "execution_count": 129,
   "id": "791f69d3",
   "metadata": {},
   "outputs": [
    {
     "data": {
      "image/png": "[encoded data removed]",
      "text/plain": [
       "<Figure size 1440x360 with 1 Axes>"
      ]
     },
     "metadata": {
      "needs_background": "light"
     },
     "output_type": "display_data"
    }
   ],
   "source": [
    "plt.subplots(figsize = (20,5))\n",
    "ax = sns.countplot(x='Cluster',hue=\"uafamily\", data = km)\n",
    "ax.set_title('uafamily')\n",
    "ax.legend(loc='right', title=\"uafamily\")\n",
    "plt.show()"
   ]
  },
  {
   "cell_type": "code",
   "execution_count": 130,
   "id": "af3db969",
   "metadata": {},
   "outputs": [
    {
     "data": {
      "image/png": "[encoded data removed]",
      "text/plain": [
       "<Figure size 1440x360 with 1 Axes>"
      ]
     },
     "metadata": {
      "needs_background": "light"
     },
     "output_type": "display_data"
    }
   ],
   "source": [
    "plt.subplots(figsize = (20,5))\n",
    "ax = sns.countplot(x='Cluster',hue=\"livechannel\", data = km)\n",
    "ax.set_title('livechannel')\n",
    "ax.legend(loc='right', title=\"livechannel\")\n",
    "plt.show()"
   ]
  },
  {
   "cell_type": "code",
   "execution_count": 131,
   "id": "44839363",
   "metadata": {},
   "outputs": [
    {
     "data": {
      "image/png": "[encoded data removed]",
      "text/plain": [
       "<Figure size 1440x360 with 1 Axes>"
      ]
     },
     "metadata": {
      "needs_background": "light"
     },
     "output_type": "display_data"
    }
   ],
   "source": [
    "plt.subplots(figsize = (20,5))\n",
    "ax = sns.countplot(x='Cluster',hue=\"hour\", data = km)\n",
    "ax.set_title('hour')\n",
    "ax.legend(loc='right', title=\"hour\")\n",
    "plt.show()"
   ]
  },
  {
   "cell_type": "code",
   "execution_count": 68,
   "id": "c12085ce",
   "metadata": {},
   "outputs": [],
   "source": [
    "df_filecaching = df[df['host'] == 13]"
   ]
  },
  {
   "cell_type": "code",
   "execution_count": 69,
   "id": "d3248637",
   "metadata": {},
   "outputs": [
    {
     "data": {
      "text/html": [
       "<div>\n",
       "<style scoped>\n",
       "    .dataframe tbody tr th:only-of-type {\n",
       "        vertical-align: middle;\n",
       "    }\n",
       "\n",
       "    .dataframe tbody tr th {\n",
       "        vertical-align: top;\n",
       "    }\n",
       "\n",
       "    .dataframe thead th {\n",
       "        text-align: right;\n",
       "    }\n",
       "</style>\n",
       "<table border=\"1\" class=\"dataframe\">\n",
       "  <thead>\n",
       "    <tr style=\"text-align: right;\">\n",
       "      <th></th>\n",
       "      <th>statuscode</th>\n",
       "      <th>contenttype</th>\n",
       "      <th>cachecontrol</th>\n",
       "      <th>uamajor</th>\n",
       "      <th>uafamily</th>\n",
       "      <th>devicefamily</th>\n",
       "      <th>@timestamp</th>\n",
       "      <th>livechannel</th>\n",
       "      <th>host</th>\n",
       "      <th>method</th>\n",
       "      <th>cachename</th>\n",
       "    </tr>\n",
       "  </thead>\n",
       "  <tbody>\n",
       "    <tr>\n",
       "      <th>2</th>\n",
       "      <td>404</td>\n",
       "      <td>application/octet-stream</td>\n",
       "      <td>Cache-Control:max-age=3600</td>\n",
       "      <td>14.0</td>\n",
       "      <td>21.0</td>\n",
       "      <td>0.0</td>\n",
       "      <td>2088-05-13T09:39:05.000Z</td>\n",
       "      <td>NaN</td>\n",
       "      <td>13.0</td>\n",
       "      <td>GET</td>\n",
       "      <td>0</td>\n",
       "    </tr>\n",
       "    <tr>\n",
       "      <th>5</th>\n",
       "      <td>404</td>\n",
       "      <td>application/octet-stream</td>\n",
       "      <td>Cache-Control:max-age=3600</td>\n",
       "      <td>14.0</td>\n",
       "      <td>21.0</td>\n",
       "      <td>0.0</td>\n",
       "      <td>2088-05-13T10:33:59.000Z</td>\n",
       "      <td>NaN</td>\n",
       "      <td>13.0</td>\n",
       "      <td>GET</td>\n",
       "      <td>0</td>\n",
       "    </tr>\n",
       "    <tr>\n",
       "      <th>9</th>\n",
       "      <td>404</td>\n",
       "      <td>application/octet-stream</td>\n",
       "      <td>Cache-Control:max-age=3600</td>\n",
       "      <td>14.0</td>\n",
       "      <td>21.0</td>\n",
       "      <td>0.0</td>\n",
       "      <td>2088-05-13T16:41:05.000Z</td>\n",
       "      <td>NaN</td>\n",
       "      <td>13.0</td>\n",
       "      <td>GET</td>\n",
       "      <td>0</td>\n",
       "    </tr>\n",
       "    <tr>\n",
       "      <th>72</th>\n",
       "      <td>404</td>\n",
       "      <td>application/octet-stream</td>\n",
       "      <td>Cache-Control:max-age=3600</td>\n",
       "      <td>14.0</td>\n",
       "      <td>21.0</td>\n",
       "      <td>0.0</td>\n",
       "      <td>2088-05-13T08:22:29.000Z</td>\n",
       "      <td>NaN</td>\n",
       "      <td>13.0</td>\n",
       "      <td>GET</td>\n",
       "      <td>0</td>\n",
       "    </tr>\n",
       "    <tr>\n",
       "      <th>201</th>\n",
       "      <td>404</td>\n",
       "      <td>application/octet-stream</td>\n",
       "      <td>Cache-Control:max-age=3600</td>\n",
       "      <td>14.0</td>\n",
       "      <td>21.0</td>\n",
       "      <td>0.0</td>\n",
       "      <td>2088-05-13T21:05:00.000Z</td>\n",
       "      <td>NaN</td>\n",
       "      <td>13.0</td>\n",
       "      <td>GET</td>\n",
       "      <td>0</td>\n",
       "    </tr>\n",
       "  </tbody>\n",
       "</table>\n",
       "</div>"
      ],
      "text/plain": [
       "     statuscode               contenttype                cachecontrol  \\\n",
       "2           404  application/octet-stream  Cache-Control:max-age=3600   \n",
       "5           404  application/octet-stream  Cache-Control:max-age=3600   \n",
       "9           404  application/octet-stream  Cache-Control:max-age=3600   \n",
       "72          404  application/octet-stream  Cache-Control:max-age=3600   \n",
       "201         404  application/octet-stream  Cache-Control:max-age=3600   \n",
       "\n",
       "     uamajor  uafamily  devicefamily                @timestamp  livechannel  \\\n",
       "2       14.0      21.0           0.0  2088-05-13T09:39:05.000Z          NaN   \n",
       "5       14.0      21.0           0.0  2088-05-13T10:33:59.000Z          NaN   \n",
       "9       14.0      21.0           0.0  2088-05-13T16:41:05.000Z          NaN   \n",
       "72      14.0      21.0           0.0  2088-05-13T08:22:29.000Z          NaN   \n",
       "201     14.0      21.0           0.0  2088-05-13T21:05:00.000Z          NaN   \n",
       "\n",
       "     host method  cachename  \n",
       "2    13.0    GET          0  \n",
       "5    13.0    GET          0  \n",
       "9    13.0    GET          0  \n",
       "72   13.0    GET          0  \n",
       "201  13.0    GET          0  "
      ]
     },
     "execution_count": 69,
     "metadata": {},
     "output_type": "execute_result"
    }
   ],
   "source": [
    "df_filecaching.head()"
   ]
  },
  {
   "cell_type": "code",
   "execution_count": 70,
   "id": "e158381b",
   "metadata": {},
   "outputs": [],
   "source": [
    "df_filecaching=df_filecaching.drop(labels=[\"livechannel\"],axis=1)"
   ]
  },
  {
   "cell_type": "code",
   "execution_count": 71,
   "id": "5320710a",
   "metadata": {},
   "outputs": [],
   "source": [
    "df_filecaching=df_filecaching.drop(labels=[\"cachecontrol\", \"devicefamily\", \"host\", \"cachename\"],axis=1)"
   ]
  },
  {
   "cell_type": "code",
   "execution_count": 72,
   "id": "992b9df1",
   "metadata": {},
   "outputs": [],
   "source": [
    "df_filecaching=df_filecaching.drop(labels=[\"uamajor\"],axis=1)"
   ]
  },
  {
   "cell_type": "code",
   "execution_count": 73,
   "id": "2da7055d",
   "metadata": {},
   "outputs": [
    {
     "data": {
      "text/html": [
       "<div>\n",
       "<style scoped>\n",
       "    .dataframe tbody tr th:only-of-type {\n",
       "        vertical-align: middle;\n",
       "    }\n",
       "\n",
       "    .dataframe tbody tr th {\n",
       "        vertical-align: top;\n",
       "    }\n",
       "\n",
       "    .dataframe thead th {\n",
       "        text-align: right;\n",
       "    }\n",
       "</style>\n",
       "<table border=\"1\" class=\"dataframe\">\n",
       "  <thead>\n",
       "    <tr style=\"text-align: right;\">\n",
       "      <th></th>\n",
       "      <th>statuscode</th>\n",
       "      <th>contenttype</th>\n",
       "      <th>uafamily</th>\n",
       "      <th>@timestamp</th>\n",
       "      <th>method</th>\n",
       "    </tr>\n",
       "  </thead>\n",
       "  <tbody>\n",
       "    <tr>\n",
       "      <th>2</th>\n",
       "      <td>404</td>\n",
       "      <td>application/octet-stream</td>\n",
       "      <td>21.0</td>\n",
       "      <td>2088-05-13T09:39:05.000Z</td>\n",
       "      <td>GET</td>\n",
       "    </tr>\n",
       "    <tr>\n",
       "      <th>5</th>\n",
       "      <td>404</td>\n",
       "      <td>application/octet-stream</td>\n",
       "      <td>21.0</td>\n",
       "      <td>2088-05-13T10:33:59.000Z</td>\n",
       "      <td>GET</td>\n",
       "    </tr>\n",
       "    <tr>\n",
       "      <th>9</th>\n",
       "      <td>404</td>\n",
       "      <td>application/octet-stream</td>\n",
       "      <td>21.0</td>\n",
       "      <td>2088-05-13T16:41:05.000Z</td>\n",
       "      <td>GET</td>\n",
       "    </tr>\n",
       "    <tr>\n",
       "      <th>72</th>\n",
       "      <td>404</td>\n",
       "      <td>application/octet-stream</td>\n",
       "      <td>21.0</td>\n",
       "      <td>2088-05-13T08:22:29.000Z</td>\n",
       "      <td>GET</td>\n",
       "    </tr>\n",
       "    <tr>\n",
       "      <th>201</th>\n",
       "      <td>404</td>\n",
       "      <td>application/octet-stream</td>\n",
       "      <td>21.0</td>\n",
       "      <td>2088-05-13T21:05:00.000Z</td>\n",
       "      <td>GET</td>\n",
       "    </tr>\n",
       "  </tbody>\n",
       "</table>\n",
       "</div>"
      ],
      "text/plain": [
       "     statuscode               contenttype  uafamily                @timestamp  \\\n",
       "2           404  application/octet-stream      21.0  2088-05-13T09:39:05.000Z   \n",
       "5           404  application/octet-stream      21.0  2088-05-13T10:33:59.000Z   \n",
       "9           404  application/octet-stream      21.0  2088-05-13T16:41:05.000Z   \n",
       "72          404  application/octet-stream      21.0  2088-05-13T08:22:29.000Z   \n",
       "201         404  application/octet-stream      21.0  2088-05-13T21:05:00.000Z   \n",
       "\n",
       "    method  \n",
       "2      GET  \n",
       "5      GET  \n",
       "9      GET  \n",
       "72     GET  \n",
       "201    GET  "
      ]
     },
     "execution_count": 73,
     "metadata": {},
     "output_type": "execute_result"
    }
   ],
   "source": [
    "df_filecaching.head()"
   ]
  },
  {
   "cell_type": "code",
   "execution_count": 74,
   "id": "a4aba371",
   "metadata": {},
   "outputs": [],
   "source": [
    "df_jiiiii = df_filecaching['@timestamp']  "
   ]
  },
  {
   "cell_type": "code",
   "execution_count": 75,
   "id": "0afbf032",
   "metadata": {},
   "outputs": [],
   "source": [
    "from datetime import datetime\n",
    "format_data = \"%Y-%m-%dT%H:%M:%S.%fZ\"\n",
    "ph=[]\n",
    "for i in df_jiiiii:\n",
    "    date = datetime.strptime(i, format_data)\n",
    "    ph.append(date.hour)"
   ]
  },
  {
   "cell_type": "code",
   "execution_count": 76,
   "id": "2f0ca679",
   "metadata": {},
   "outputs": [],
   "source": [
    "df_filecaching['hour'] = ph"
   ]
  },
  {
   "cell_type": "code",
   "execution_count": 77,
   "id": "07f530ba",
   "metadata": {},
   "outputs": [
    {
     "data": {
      "text/html": [
       "<div>\n",
       "<style scoped>\n",
       "    .dataframe tbody tr th:only-of-type {\n",
       "        vertical-align: middle;\n",
       "    }\n",
       "\n",
       "    .dataframe tbody tr th {\n",
       "        vertical-align: top;\n",
       "    }\n",
       "\n",
       "    .dataframe thead th {\n",
       "        text-align: right;\n",
       "    }\n",
       "</style>\n",
       "<table border=\"1\" class=\"dataframe\">\n",
       "  <thead>\n",
       "    <tr style=\"text-align: right;\">\n",
       "      <th></th>\n",
       "      <th>statuscode</th>\n",
       "      <th>contenttype</th>\n",
       "      <th>uafamily</th>\n",
       "      <th>@timestamp</th>\n",
       "      <th>method</th>\n",
       "      <th>hour</th>\n",
       "    </tr>\n",
       "  </thead>\n",
       "  <tbody>\n",
       "    <tr>\n",
       "      <th>2</th>\n",
       "      <td>404</td>\n",
       "      <td>application/octet-stream</td>\n",
       "      <td>21.0</td>\n",
       "      <td>2088-05-13T09:39:05.000Z</td>\n",
       "      <td>GET</td>\n",
       "      <td>9</td>\n",
       "    </tr>\n",
       "    <tr>\n",
       "      <th>5</th>\n",
       "      <td>404</td>\n",
       "      <td>application/octet-stream</td>\n",
       "      <td>21.0</td>\n",
       "      <td>2088-05-13T10:33:59.000Z</td>\n",
       "      <td>GET</td>\n",
       "      <td>10</td>\n",
       "    </tr>\n",
       "    <tr>\n",
       "      <th>9</th>\n",
       "      <td>404</td>\n",
       "      <td>application/octet-stream</td>\n",
       "      <td>21.0</td>\n",
       "      <td>2088-05-13T16:41:05.000Z</td>\n",
       "      <td>GET</td>\n",
       "      <td>16</td>\n",
       "    </tr>\n",
       "    <tr>\n",
       "      <th>72</th>\n",
       "      <td>404</td>\n",
       "      <td>application/octet-stream</td>\n",
       "      <td>21.0</td>\n",
       "      <td>2088-05-13T08:22:29.000Z</td>\n",
       "      <td>GET</td>\n",
       "      <td>8</td>\n",
       "    </tr>\n",
       "    <tr>\n",
       "      <th>201</th>\n",
       "      <td>404</td>\n",
       "      <td>application/octet-stream</td>\n",
       "      <td>21.0</td>\n",
       "      <td>2088-05-13T21:05:00.000Z</td>\n",
       "      <td>GET</td>\n",
       "      <td>21</td>\n",
       "    </tr>\n",
       "  </tbody>\n",
       "</table>\n",
       "</div>"
      ],
      "text/plain": [
       "     statuscode               contenttype  uafamily                @timestamp  \\\n",
       "2           404  application/octet-stream      21.0  2088-05-13T09:39:05.000Z   \n",
       "5           404  application/octet-stream      21.0  2088-05-13T10:33:59.000Z   \n",
       "9           404  application/octet-stream      21.0  2088-05-13T16:41:05.000Z   \n",
       "72          404  application/octet-stream      21.0  2088-05-13T08:22:29.000Z   \n",
       "201         404  application/octet-stream      21.0  2088-05-13T21:05:00.000Z   \n",
       "\n",
       "    method  hour  \n",
       "2      GET     9  \n",
       "5      GET    10  \n",
       "9      GET    16  \n",
       "72     GET     8  \n",
       "201    GET    21  "
      ]
     },
     "execution_count": 77,
     "metadata": {},
     "output_type": "execute_result"
    }
   ],
   "source": [
    "df_filecaching.head()"
   ]
  },
  {
   "cell_type": "code",
   "execution_count": 78,
   "id": "5753345f",
   "metadata": {},
   "outputs": [],
   "source": [
    "df_filecaching=df_filecaching.drop(labels=[\"@timestamp\"],axis=1)"
   ]
  },
  {
   "cell_type": "code",
   "execution_count": 79,
   "id": "3db6f499",
   "metadata": {},
   "outputs": [],
   "source": [
    "lll1 = df_filecaching.copy()"
   ]
  },
  {
   "cell_type": "code",
   "execution_count": 80,
   "id": "bb94dd3d",
   "metadata": {},
   "outputs": [],
   "source": [
    "lll2 = df_filecaching.copy()"
   ]
  },
  {
   "cell_type": "code",
   "execution_count": 81,
   "id": "0fb7a530",
   "metadata": {},
   "outputs": [],
   "source": [
    "lll1=lll1.drop(labels=[\"hour\"],axis=1)"
   ]
  },
  {
   "cell_type": "code",
   "execution_count": 82,
   "id": "c976baab",
   "metadata": {},
   "outputs": [
    {
     "name": "stdout",
     "output_type": "stream",
     "text": [
      "<class 'pandas.core.frame.DataFrame'>\n",
      "Int64Index: 11658 entries, 2 to 286976\n",
      "Data columns (total 4 columns):\n",
      " #   Column       Non-Null Count  Dtype  \n",
      "---  ------       --------------  -----  \n",
      " 0   statuscode   11658 non-null  int64  \n",
      " 1   contenttype  11658 non-null  object \n",
      " 2   uafamily     11658 non-null  float64\n",
      " 3   method       11658 non-null  object \n",
      "dtypes: float64(1), int64(1), object(2)\n",
      "memory usage: 455.4+ KB\n"
     ]
    }
   ],
   "source": [
    "lll1.info()"
   ]
  },
  {
   "cell_type": "code",
   "execution_count": 83,
   "id": "218671be",
   "metadata": {},
   "outputs": [
    {
     "name": "stdout",
     "output_type": "stream",
     "text": [
      "<class 'pandas.core.frame.DataFrame'>\n",
      "Int64Index: 11658 entries, 2 to 286976\n",
      "Data columns (total 5 columns):\n",
      " #   Column       Non-Null Count  Dtype  \n",
      "---  ------       --------------  -----  \n",
      " 0   statuscode   11658 non-null  int64  \n",
      " 1   contenttype  11658 non-null  object \n",
      " 2   uafamily     11658 non-null  float64\n",
      " 3   method       11658 non-null  object \n",
      " 4   hour         11658 non-null  int64  \n",
      "dtypes: float64(1), int64(2), object(2)\n",
      "memory usage: 546.5+ KB\n"
     ]
    }
   ],
   "source": [
    "lll2.info()"
   ]
  },
  {
   "cell_type": "code",
   "execution_count": 84,
   "id": "8d10c133",
   "metadata": {},
   "outputs": [],
   "source": [
    "lll1.drop_duplicates(subset=None, keep='first', inplace=True)"
   ]
  },
  {
   "cell_type": "code",
   "execution_count": 85,
   "id": "e54d54f6",
   "metadata": {},
   "outputs": [],
   "source": [
    "lll2.drop_duplicates(subset=None, keep='first', inplace=True)"
   ]
  },
  {
   "cell_type": "code",
   "execution_count": 86,
   "id": "2aa2d450",
   "metadata": {},
   "outputs": [
    {
     "name": "stdout",
     "output_type": "stream",
     "text": [
      "<class 'pandas.core.frame.DataFrame'>\n",
      "Int64Index: 7 entries, 2 to 98061\n",
      "Data columns (total 4 columns):\n",
      " #   Column       Non-Null Count  Dtype  \n",
      "---  ------       --------------  -----  \n",
      " 0   statuscode   7 non-null      int64  \n",
      " 1   contenttype  7 non-null      object \n",
      " 2   uafamily     7 non-null      float64\n",
      " 3   method       7 non-null      object \n",
      "dtypes: float64(1), int64(1), object(2)\n",
      "memory usage: 280.0+ bytes\n"
     ]
    }
   ],
   "source": [
    "lll1.info()"
   ]
  },
  {
   "cell_type": "code",
   "execution_count": 87,
   "id": "3680d120",
   "metadata": {},
   "outputs": [
    {
     "name": "stdout",
     "output_type": "stream",
     "text": [
      "<class 'pandas.core.frame.DataFrame'>\n",
      "Int64Index: 58 entries, 2 to 202563\n",
      "Data columns (total 5 columns):\n",
      " #   Column       Non-Null Count  Dtype  \n",
      "---  ------       --------------  -----  \n",
      " 0   statuscode   58 non-null     int64  \n",
      " 1   contenttype  58 non-null     object \n",
      " 2   uafamily     58 non-null     float64\n",
      " 3   method       58 non-null     object \n",
      " 4   hour         58 non-null     int64  \n",
      "dtypes: float64(1), int64(2), object(2)\n",
      "memory usage: 2.7+ KB\n"
     ]
    }
   ],
   "source": [
    "lll2.info()"
   ]
  },
  {
   "cell_type": "code",
   "execution_count": 88,
   "id": "32521570",
   "metadata": {},
   "outputs": [],
   "source": [
    "gower_mat_111 = gower.gower_matrix(lll2)"
   ]
  },
  {
   "cell_type": "code",
   "execution_count": 90,
   "id": "de44c1bc",
   "metadata": {},
   "outputs": [],
   "source": [
    "dbscan_cluster = DBSCAN(eps=0.480, min_samples=15, metric=\"minkowski\", p=2,metric_params={\"w\":np.ones(len(gower_mat_111))})\n",
    "dbscan_cluster.fit(gower_mat_111)\n",
    "labels=dbscan_cluster.labels_"
   ]
  },
  {
   "cell_type": "code",
   "execution_count": 94,
   "id": "916dfe8e",
   "metadata": {},
   "outputs": [
    {
     "name": "stdout",
     "output_type": "stream",
     "text": [
      "0.6892356779653592\n"
     ]
    }
   ],
   "source": [
    "dbscan_score = DBCV(gower_mat_111, labels)\n",
    "print(dbscan_score)"
   ]
  },
  {
   "cell_type": "code",
   "execution_count": 162,
   "id": "d1f364aa",
   "metadata": {},
   "outputs": [
    {
     "data": {
      "text/plain": [
       "Text(0, 0.5, 'Distance')"
      ]
     },
     "execution_count": 162,
     "metadata": {},
     "output_type": "execute_result"
    },
    {
     "data": {
      "image/png": "[encoded data removed]",
      "text/plain": [
       "<Figure size 360x360 with 1 Axes>"
      ]
     },
     "metadata": {
      "needs_background": "light"
     },
     "output_type": "display_data"
    }
   ],
   "source": [
    "nearest_neighbors = NearestNeighbors(n_neighbors=5)\n",
    "neighbors = nearest_neighbors.fit(gower_mat_111)\n",
    "\n",
    "distances, indices = neighbors.kneighbors(gower_mat_111)\n",
    "distances = np.sort(distances[:,4], axis=0)\n",
    "\n",
    "fig = plt.figure(figsize=(5, 5))\n",
    "plt.plot(distances)\n",
    "plt.xlabel(\"Points\")\n",
    "plt.ylabel(\"Distance\")"
   ]
  },
  {
   "cell_type": "code",
   "execution_count": 163,
   "id": "bf458bb3",
   "metadata": {},
   "outputs": [
    {
     "name": "stdout",
     "output_type": "stream",
     "text": [
      "0.48039055\n"
     ]
    },
    {
     "data": {
      "text/plain": [
       "<Figure size 360x360 with 0 Axes>"
      ]
     },
     "metadata": {},
     "output_type": "display_data"
    },
    {
     "data": {
      "image/png": "[encoded data removed]",
      "text/plain": [
       "<Figure size 432x432 with 1 Axes>"
      ]
     },
     "metadata": {
      "needs_background": "light"
     },
     "output_type": "display_data"
    }
   ],
   "source": [
    "i = np.arange(len(distances))\n",
    "knee = KneeLocator(i, distances, S=1, curve='convex', direction='increasing', interp_method='polynomial')\n",
    "\n",
    "fig = plt.figure(figsize=(5, 5))\n",
    "knee.plot_knee()\n",
    "plt.xlabel(\"Points\")\n",
    "plt.ylabel(\"Distance\")\n",
    "\n",
    "print(distances[knee.knee])"
   ]
  },
  {
   "cell_type": "markdown",
   "id": "e9fdff02",
   "metadata": {},
   "source": [
    "Without Hour column:"
   ]
  },
  {
   "cell_type": "code",
   "execution_count": 195,
   "id": "840692d6",
   "metadata": {},
   "outputs": [
    {
     "name": "stdout",
     "output_type": "stream",
     "text": [
      "For minimum samples: 10\n",
      "Estimated no. of clusters: 4\n",
      "Estimated no. of noise points: 14\n",
      "For minimum samples: 11\n",
      "Estimated no. of clusters: 4\n",
      "Estimated no. of noise points: 14\n",
      "For minimum samples: 12\n",
      "Estimated no. of clusters: 4\n",
      "Estimated no. of noise points: 14\n",
      "For minimum samples: 13\n",
      "Estimated no. of clusters: 4\n",
      "Estimated no. of noise points: 14\n",
      "For minimum samples: 14\n",
      "Estimated no. of clusters: 4\n",
      "Estimated no. of noise points: 14\n",
      "For minimum samples: 15\n",
      "Estimated no. of clusters: 4\n",
      "Estimated no. of noise points: 14\n",
      "For minimum samples: 16\n",
      "Estimated no. of clusters: 4\n",
      "Estimated no. of noise points: 14\n",
      "For minimum samples: 17\n",
      "Estimated no. of clusters: 4\n",
      "Estimated no. of noise points: 14\n",
      "For minimum samples: 18\n",
      "Estimated no. of clusters: 4\n",
      "Estimated no. of noise points: 14\n",
      "For minimum samples: 19\n",
      "Estimated no. of clusters: 4\n",
      "Estimated no. of noise points: 14\n",
      "For minimum samples: 20\n",
      "Estimated no. of clusters: 4\n",
      "Estimated no. of noise points: 14\n"
     ]
    }
   ],
   "source": [
    "range_min = [10, 11, 12, 13, 14, 15, 16, 17, 18, 19, 20] \n",
    "for i in range_min:\n",
    "    dbscan_cluster = DBSCAN(eps=0.480, min_samples=i, metric=\"minkowski\", p=2,metric_params={\"w\":np.ones(len(gower_mat_111))})\n",
    "    dbscan_cluster.fit(gower_mat_111)\n",
    "    # Number of Clusters\n",
    "    print('For minimum samples: %d' % i)\n",
    "    labels=dbscan_cluster.labels_\n",
    "    N_clus=len(set(labels))-(1 if -1 in labels else 0)\n",
    "    print('Estimated no. of clusters: %d' % N_clus)\n",
    "    # Identify Noise\n",
    "    n_noise = list(dbscan_cluster.labels_).count(-1)\n",
    "    print('Estimated no. of noise points: %d' % n_noise)\n"
   ]
  },
  {
   "cell_type": "code",
   "execution_count": 197,
   "id": "14830b8b",
   "metadata": {},
   "outputs": [
    {
     "data": {
      "image/png": "[encoded data removed]",
      "text/plain": [
       "<Figure size 1440x360 with 1 Axes>"
      ]
     },
     "metadata": {
      "needs_background": "light"
     },
     "output_type": "display_data"
    }
   ],
   "source": [
    "dbscan_cluster = DBSCAN(eps=0.480, min_samples=11, metric=\"minkowski\", p=2,metric_params={\"w\":np.ones(len(gower_mat_111))})\n",
    "dbscan_cluster.fit(gower_mat_111)\n",
    "labels=dbscan_cluster.labels_\n",
    "lll1[\"Cluster\"] = labels\n",
    "plt.subplots(figsize = (20,5))\n",
    "ax = sns.countplot(x='Cluster',hue=\"statuscode\", data = lll1)\n",
    "ax.set_title('statuscode')\n",
    "ax.legend(loc='right', title=\"statuscode\")\n",
    "plt.show()"
   ]
  },
  {
   "cell_type": "code",
   "execution_count": 198,
   "id": "5d3ccb77",
   "metadata": {},
   "outputs": [
    {
     "data": {
      "image/png": "[encoded data removed]",
      "text/plain": [
       "<Figure size 1440x360 with 1 Axes>"
      ]
     },
     "metadata": {
      "needs_background": "light"
     },
     "output_type": "display_data"
    }
   ],
   "source": [
    "plt.subplots(figsize = (20,5))\n",
    "ax = sns.countplot(x='Cluster',hue=\"contenttype\", data = lll1)\n",
    "ax.set_title('contenttype')\n",
    "ax.legend(loc='right', title=\"contenttype\")\n",
    "plt.show()"
   ]
  },
  {
   "cell_type": "code",
   "execution_count": 199,
   "id": "4d0bdb41",
   "metadata": {},
   "outputs": [
    {
     "data": {
      "image/png": "[encoded data removed]",
      "text/plain": [
       "<Figure size 1440x360 with 1 Axes>"
      ]
     },
     "metadata": {
      "needs_background": "light"
     },
     "output_type": "display_data"
    }
   ],
   "source": [
    "plt.subplots(figsize = (20,5))\n",
    "ax = sns.countplot(x='Cluster',hue=\"uafamily\", data = lll1)\n",
    "ax.set_title('uafamily')\n",
    "ax.legend(loc='right', title=\"uafamily\")\n",
    "plt.show()"
   ]
  },
  {
   "cell_type": "code",
   "execution_count": 200,
   "id": "0e4e7ac5",
   "metadata": {},
   "outputs": [
    {
     "data": {
      "image/png": "[encoded data removed]",
      "text/plain": [
       "<Figure size 1440x360 with 1 Axes>"
      ]
     },
     "metadata": {
      "needs_background": "light"
     },
     "output_type": "display_data"
    }
   ],
   "source": [
    "plt.subplots(figsize = (20,5))\n",
    "ax = sns.countplot(x='Cluster',hue=\"method\", data = lll1)\n",
    "ax.set_title('method')\n",
    "ax.legend(loc='right', title=\"method\")\n",
    "plt.show()"
   ]
  },
  {
   "cell_type": "code",
   "execution_count": 95,
   "id": "818f1219",
   "metadata": {},
   "outputs": [],
   "source": [
    "df_website = df[df['host'] == 3]"
   ]
  },
  {
   "cell_type": "code",
   "execution_count": 96,
   "id": "03fce8bf",
   "metadata": {},
   "outputs": [],
   "source": [
    "df_website=df_website.drop(labels=[\"livechannel\"],axis=1)"
   ]
  },
  {
   "cell_type": "code",
   "execution_count": 97,
   "id": "300ca1d8",
   "metadata": {},
   "outputs": [],
   "source": [
    "df_website=df_website.drop(labels=[\"cachecontrol\"],axis=1)"
   ]
  },
  {
   "cell_type": "code",
   "execution_count": 98,
   "id": "3d340b25",
   "metadata": {},
   "outputs": [
    {
     "name": "stdout",
     "output_type": "stream",
     "text": [
      "<class 'pandas.core.frame.DataFrame'>\n",
      "Int64Index: 1660 entries, 76 to 286903\n",
      "Data columns (total 9 columns):\n",
      " #   Column        Non-Null Count  Dtype  \n",
      "---  ------        --------------  -----  \n",
      " 0   statuscode    1660 non-null   int64  \n",
      " 1   contenttype   1660 non-null   object \n",
      " 2   uamajor       1377 non-null   float64\n",
      " 3   uafamily      1660 non-null   float64\n",
      " 4   devicefamily  1660 non-null   float64\n",
      " 5   @timestamp    1660 non-null   object \n",
      " 6   host          1660 non-null   float64\n",
      " 7   method        1660 non-null   object \n",
      " 8   cachename     1660 non-null   int64  \n",
      "dtypes: float64(4), int64(2), object(3)\n",
      "memory usage: 129.7+ KB\n"
     ]
    }
   ],
   "source": [
    "df_website.info()"
   ]
  },
  {
   "cell_type": "code",
   "execution_count": 99,
   "id": "a038dc11",
   "metadata": {},
   "outputs": [],
   "source": [
    "df_website=df_website.drop(labels=[\"devicefamily\", \"method\", \"cachename\"],axis=1)"
   ]
  },
  {
   "cell_type": "code",
   "execution_count": 100,
   "id": "b45f2a8a",
   "metadata": {},
   "outputs": [],
   "source": [
    "df_website=df_website.drop(labels=[\"host\"],axis=1)"
   ]
  },
  {
   "cell_type": "code",
   "execution_count": 101,
   "id": "46bee684",
   "metadata": {},
   "outputs": [],
   "source": [
    "df_website.drop_duplicates(subset=None, keep='first', inplace=True)"
   ]
  },
  {
   "cell_type": "code",
   "execution_count": 102,
   "id": "9a8d4e96",
   "metadata": {},
   "outputs": [
    {
     "name": "stdout",
     "output_type": "stream",
     "text": [
      "<class 'pandas.core.frame.DataFrame'>\n",
      "Int64Index: 1160 entries, 76 to 286567\n",
      "Data columns (total 5 columns):\n",
      " #   Column       Non-Null Count  Dtype  \n",
      "---  ------       --------------  -----  \n",
      " 0   statuscode   1160 non-null   int64  \n",
      " 1   contenttype  1160 non-null   object \n",
      " 2   uamajor      1001 non-null   float64\n",
      " 3   uafamily     1160 non-null   float64\n",
      " 4   @timestamp   1160 non-null   object \n",
      "dtypes: float64(2), int64(1), object(2)\n",
      "memory usage: 54.4+ KB\n"
     ]
    }
   ],
   "source": [
    "df_website.info()"
   ]
  },
  {
   "cell_type": "code",
   "execution_count": 103,
   "id": "afc0a9e2",
   "metadata": {},
   "outputs": [],
   "source": [
    "df_jiiiiiiii = df_website['@timestamp']"
   ]
  },
  {
   "cell_type": "code",
   "execution_count": 104,
   "id": "6f035b97",
   "metadata": {},
   "outputs": [],
   "source": [
    "from datetime import datetime\n",
    "format_data = \"%Y-%m-%dT%H:%M:%S.%fZ\"\n",
    "lh=[]\n",
    "for i in df_jiiiiiiii:\n",
    "    date = datetime.strptime(i, format_data)\n",
    "    lh.append(date.hour)"
   ]
  },
  {
   "cell_type": "code",
   "execution_count": 105,
   "id": "ce79ceae",
   "metadata": {},
   "outputs": [],
   "source": [
    "df_website['hour'] = lh"
   ]
  },
  {
   "cell_type": "code",
   "execution_count": 106,
   "id": "334833a5",
   "metadata": {},
   "outputs": [
    {
     "data": {
      "text/html": [
       "<div>\n",
       "<style scoped>\n",
       "    .dataframe tbody tr th:only-of-type {\n",
       "        vertical-align: middle;\n",
       "    }\n",
       "\n",
       "    .dataframe tbody tr th {\n",
       "        vertical-align: top;\n",
       "    }\n",
       "\n",
       "    .dataframe thead th {\n",
       "        text-align: right;\n",
       "    }\n",
       "</style>\n",
       "<table border=\"1\" class=\"dataframe\">\n",
       "  <thead>\n",
       "    <tr style=\"text-align: right;\">\n",
       "      <th></th>\n",
       "      <th>statuscode</th>\n",
       "      <th>contenttype</th>\n",
       "      <th>uamajor</th>\n",
       "      <th>uafamily</th>\n",
       "      <th>@timestamp</th>\n",
       "      <th>hour</th>\n",
       "    </tr>\n",
       "  </thead>\n",
       "  <tbody>\n",
       "    <tr>\n",
       "      <th>76</th>\n",
       "      <td>403</td>\n",
       "      <td>text/html</td>\n",
       "      <td>2.0</td>\n",
       "      <td>20.0</td>\n",
       "      <td>2088-05-13T08:27:58.000Z</td>\n",
       "      <td>8</td>\n",
       "    </tr>\n",
       "    <tr>\n",
       "      <th>623</th>\n",
       "      <td>403</td>\n",
       "      <td>text/html</td>\n",
       "      <td>15.0</td>\n",
       "      <td>11.0</td>\n",
       "      <td>2088-05-14T07:32:46.000Z</td>\n",
       "      <td>7</td>\n",
       "    </tr>\n",
       "    <tr>\n",
       "      <th>730</th>\n",
       "      <td>403</td>\n",
       "      <td>text/html</td>\n",
       "      <td>7.0</td>\n",
       "      <td>7.0</td>\n",
       "      <td>2088-05-14T08:42:36.000Z</td>\n",
       "      <td>8</td>\n",
       "    </tr>\n",
       "    <tr>\n",
       "      <th>743</th>\n",
       "      <td>403</td>\n",
       "      <td>text/html</td>\n",
       "      <td>NaN</td>\n",
       "      <td>1.0</td>\n",
       "      <td>2088-05-14T12:46:51.000Z</td>\n",
       "      <td>12</td>\n",
       "    </tr>\n",
       "    <tr>\n",
       "      <th>757</th>\n",
       "      <td>403</td>\n",
       "      <td>text/html</td>\n",
       "      <td>14.0</td>\n",
       "      <td>30.0</td>\n",
       "      <td>2088-05-14T14:37:40.000Z</td>\n",
       "      <td>14</td>\n",
       "    </tr>\n",
       "  </tbody>\n",
       "</table>\n",
       "</div>"
      ],
      "text/plain": [
       "     statuscode contenttype  uamajor  uafamily                @timestamp  hour\n",
       "76          403   text/html      2.0      20.0  2088-05-13T08:27:58.000Z     8\n",
       "623         403   text/html     15.0      11.0  2088-05-14T07:32:46.000Z     7\n",
       "730         403   text/html      7.0       7.0  2088-05-14T08:42:36.000Z     8\n",
       "743         403   text/html      NaN       1.0  2088-05-14T12:46:51.000Z    12\n",
       "757         403   text/html     14.0      30.0  2088-05-14T14:37:40.000Z    14"
      ]
     },
     "execution_count": 106,
     "metadata": {},
     "output_type": "execute_result"
    }
   ],
   "source": [
    "df_website.head()"
   ]
  },
  {
   "cell_type": "code",
   "execution_count": 107,
   "id": "31f25eee",
   "metadata": {},
   "outputs": [],
   "source": [
    "df_website=df_website.drop(labels=[\"@timestamp\"],axis=1)"
   ]
  },
  {
   "cell_type": "code",
   "execution_count": 108,
   "id": "fcf9aad6",
   "metadata": {},
   "outputs": [],
   "source": [
    "bh1 = df_website.copy()"
   ]
  },
  {
   "cell_type": "code",
   "execution_count": 109,
   "id": "62931c8a",
   "metadata": {},
   "outputs": [],
   "source": [
    "bh2 = df_website.copy()"
   ]
  },
  {
   "cell_type": "code",
   "execution_count": 110,
   "id": "ee9896c6",
   "metadata": {},
   "outputs": [],
   "source": [
    "bh2=bh2.drop(labels=[\"hour\"],axis=1)"
   ]
  },
  {
   "cell_type": "code",
   "execution_count": 111,
   "id": "d82a98f8",
   "metadata": {},
   "outputs": [],
   "source": [
    "bh1.drop_duplicates(subset=None, keep='first', inplace=True)"
   ]
  },
  {
   "cell_type": "code",
   "execution_count": 112,
   "id": "da5a630e",
   "metadata": {},
   "outputs": [],
   "source": [
    "bh2.drop_duplicates(subset=None, keep='first', inplace=True)"
   ]
  },
  {
   "cell_type": "code",
   "execution_count": 113,
   "id": "89f37eef",
   "metadata": {},
   "outputs": [
    {
     "name": "stdout",
     "output_type": "stream",
     "text": [
      "<class 'pandas.core.frame.DataFrame'>\n",
      "Int64Index: 352 entries, 76 to 284303\n",
      "Data columns (total 5 columns):\n",
      " #   Column       Non-Null Count  Dtype  \n",
      "---  ------       --------------  -----  \n",
      " 0   statuscode   352 non-null    int64  \n",
      " 1   contenttype  352 non-null    object \n",
      " 2   uamajor      317 non-null    float64\n",
      " 3   uafamily     352 non-null    float64\n",
      " 4   hour         352 non-null    int64  \n",
      "dtypes: float64(2), int64(2), object(1)\n",
      "memory usage: 16.5+ KB\n"
     ]
    }
   ],
   "source": [
    "bh1.info()"
   ]
  },
  {
   "cell_type": "code",
   "execution_count": 114,
   "id": "890bdbc7",
   "metadata": {},
   "outputs": [
    {
     "name": "stdout",
     "output_type": "stream",
     "text": [
      "<class 'pandas.core.frame.DataFrame'>\n",
      "Int64Index: 65 entries, 76 to 277045\n",
      "Data columns (total 4 columns):\n",
      " #   Column       Non-Null Count  Dtype  \n",
      "---  ------       --------------  -----  \n",
      " 0   statuscode   65 non-null     int64  \n",
      " 1   contenttype  65 non-null     object \n",
      " 2   uamajor      62 non-null     float64\n",
      " 3   uafamily     65 non-null     float64\n",
      "dtypes: float64(2), int64(1), object(1)\n",
      "memory usage: 2.5+ KB\n"
     ]
    }
   ],
   "source": [
    "bh2.info()"
   ]
  },
  {
   "cell_type": "code",
   "execution_count": 115,
   "id": "7117abf0",
   "metadata": {},
   "outputs": [],
   "source": [
    "bh1['uamajor']=bh1['uamajor'].fillna(bh1['uamajor'].mode()[0])\n",
    "bh2['uamajor']=bh2['uamajor'].fillna(bh2['uamajor'].mode()[0])"
   ]
  },
  {
   "cell_type": "code",
   "execution_count": 116,
   "id": "0a3fb120",
   "metadata": {},
   "outputs": [],
   "source": [
    "gower_mat_444 = gower.gower_matrix(bh1)\n",
    "gower_mat_555 = gower.gower_matrix(bh2)"
   ]
  },
  {
   "cell_type": "code",
   "execution_count": 117,
   "id": "59fe1b3d",
   "metadata": {},
   "outputs": [],
   "source": [
    "dbscan_cluster = DBSCAN(eps=0.431, min_samples=12, metric=\"minkowski\", p=2,metric_params={\"w\":np.ones(len(gower_mat_444))})\n",
    "dbscan_cluster.fit(gower_mat_444)\n",
    "labels=dbscan_cluster.labels_"
   ]
  },
  {
   "cell_type": "code",
   "execution_count": 119,
   "id": "3f82512a",
   "metadata": {},
   "outputs": [
    {
     "name": "stdout",
     "output_type": "stream",
     "text": [
      "0.49529734927796376\n"
     ]
    }
   ],
   "source": [
    "dbscan_score = DBCV(gower_mat_111, labels)\n",
    "print(dbscan_score)"
   ]
  },
  {
   "cell_type": "code",
   "execution_count": 225,
   "id": "c2edfbc3",
   "metadata": {},
   "outputs": [
    {
     "data": {
      "text/plain": [
       "Text(0, 0.5, 'Distance')"
      ]
     },
     "execution_count": 225,
     "metadata": {},
     "output_type": "execute_result"
    },
    {
     "data": {
      "image/png": "[encoded data removed]",
      "text/plain": [
       "<Figure size 360x360 with 1 Axes>"
      ]
     },
     "metadata": {
      "needs_background": "light"
     },
     "output_type": "display_data"
    }
   ],
   "source": [
    "nearest_neighbors = NearestNeighbors(n_neighbors=5)\n",
    "neighbors = nearest_neighbors.fit(gower_mat_444)\n",
    "\n",
    "distances, indices = neighbors.kneighbors(gower_mat_444)\n",
    "distances = np.sort(distances[:,4], axis=0)\n",
    "\n",
    "fig = plt.figure(figsize=(5, 5))\n",
    "plt.plot(distances)\n",
    "plt.xlabel(\"Points\")\n",
    "plt.ylabel(\"Distance\")"
   ]
  },
  {
   "cell_type": "code",
   "execution_count": 226,
   "id": "00c35f4f",
   "metadata": {},
   "outputs": [
    {
     "name": "stdout",
     "output_type": "stream",
     "text": [
      "0.43116927\n"
     ]
    },
    {
     "data": {
      "text/plain": [
       "<Figure size 360x360 with 0 Axes>"
      ]
     },
     "metadata": {},
     "output_type": "display_data"
    },
    {
     "data": {
      "image/png": "[encoded data removed]",
      "text/plain": [
       "<Figure size 432x432 with 1 Axes>"
      ]
     },
     "metadata": {
      "needs_background": "light"
     },
     "output_type": "display_data"
    }
   ],
   "source": [
    "i = np.arange(len(distances))\n",
    "knee = KneeLocator(i, distances, S=1, curve='convex', direction='increasing', interp_method='polynomial')\n",
    "\n",
    "fig = plt.figure(figsize=(5, 5))\n",
    "knee.plot_knee()\n",
    "plt.xlabel(\"Points\")\n",
    "plt.ylabel(\"Distance\")\n",
    "\n",
    "print(distances[knee.knee])"
   ]
  },
  {
   "cell_type": "code",
   "execution_count": 127,
   "id": "5169af67",
   "metadata": {},
   "outputs": [
    {
     "name": "stdout",
     "output_type": "stream",
     "text": [
      "For minimum samples: 10\n",
      "Estimated no. of clusters: 2\n",
      "Estimated no. of noise points: 12\n",
      "For minimum samples: 11\n",
      "Estimated no. of clusters: 2\n",
      "Estimated no. of noise points: 12\n",
      "For minimum samples: 12\n",
      "Estimated no. of clusters: 2\n",
      "Estimated no. of noise points: 18\n",
      "For minimum samples: 13\n",
      "Estimated no. of clusters: 2\n",
      "Estimated no. of noise points: 18\n",
      "For minimum samples: 14\n",
      "Estimated no. of clusters: 2\n",
      "Estimated no. of noise points: 18\n",
      "For minimum samples: 15\n",
      "Estimated no. of clusters: 2\n",
      "Estimated no. of noise points: 18\n",
      "For minimum samples: 16\n",
      "Estimated no. of clusters: 2\n",
      "Estimated no. of noise points: 18\n",
      "For minimum samples: 17\n",
      "Estimated no. of clusters: 2\n",
      "Estimated no. of noise points: 18\n",
      "For minimum samples: 18\n",
      "Estimated no. of clusters: 2\n",
      "Estimated no. of noise points: 18\n",
      "For minimum samples: 19\n",
      "Estimated no. of clusters: 2\n",
      "Estimated no. of noise points: 18\n",
      "For minimum samples: 20\n",
      "Estimated no. of clusters: 2\n",
      "Estimated no. of noise points: 21\n"
     ]
    }
   ],
   "source": [
    "range_min = [10, 11, 12, 13, 14, 15, 16, 17, 18, 19, 20] \n",
    "for i in range_min:\n",
    "    dbscan_cluster = DBSCAN(eps=0.431, min_samples=i, metric=\"minkowski\", p=2,metric_params={\"w\":np.ones(len(gower_mat_444))})\n",
    "    dbscan_cluster.fit(gower_mat_444)\n",
    "    # Number of Clusters\n",
    "    print('For minimum samples: %d' % i)\n",
    "    labels=dbscan_cluster.labels_\n",
    "    N_clus=len(set(labels))-(1 if -1 in labels else 0)\n",
    "    print('Estimated no. of clusters: %d' % N_clus)\n",
    "    # Identify Noise\n",
    "    n_noise = list(dbscan_cluster.labels_).count(-1)\n",
    "    print('Estimated no. of noise points: %d' % n_noise)"
   ]
  },
  {
   "cell_type": "code",
   "execution_count": 276,
   "id": "caa9ce96",
   "metadata": {},
   "outputs": [
    {
     "data": {
      "image/png": "[encoded data removed]",
      "text/plain": [
       "<Figure size 1440x360 with 1 Axes>"
      ]
     },
     "metadata": {
      "needs_background": "light"
     },
     "output_type": "display_data"
    }
   ],
   "source": [
    "dbscan_cluster = DBSCAN(eps=0.431, min_samples=11, metric=\"minkowski\", p=2,metric_params={\"w\":np.ones(len(gower_mat_444))})\n",
    "dbscan_cluster.fit(gower_mat_444)\n",
    "labels=dbscan_cluster.labels_\n",
    "bh1[\"Cluster\"] = labels\n",
    "plt.subplots(figsize = (20,5))\n",
    "ax = sns.countplot(x='Cluster',hue=\"statuscode\", data = bh1)\n",
    "ax.set_title('statuscode')\n",
    "ax.legend(loc='right', title=\"statuscode\")\n",
    "plt.show()"
   ]
  },
  {
   "cell_type": "code",
   "execution_count": 277,
   "id": "6e9f8f2a",
   "metadata": {},
   "outputs": [
    {
     "data": {
      "image/png": "[encoded data removed]",
      "text/plain": [
       "<Figure size 1440x360 with 1 Axes>"
      ]
     },
     "metadata": {
      "needs_background": "light"
     },
     "output_type": "display_data"
    }
   ],
   "source": [
    "plt.subplots(figsize = (20,5))\n",
    "ax = sns.countplot(x='Cluster',hue=\"contenttype\", data = bh1)\n",
    "ax.set_title('contenttype')\n",
    "ax.legend(loc='right', title=\"contenttype\")\n",
    "plt.show()"
   ]
  },
  {
   "cell_type": "code",
   "execution_count": 278,
   "id": "1364ad78",
   "metadata": {},
   "outputs": [
    {
     "data": {
      "image/png": "[encoded data removed]",
      "text/plain": [
       "<Figure size 1440x360 with 1 Axes>"
      ]
     },
     "metadata": {
      "needs_background": "light"
     },
     "output_type": "display_data"
    }
   ],
   "source": [
    "plt.subplots(figsize = (20,5))\n",
    "ax = sns.countplot(x='Cluster',hue=\"uafamily\", data = bh1)\n",
    "ax.set_title('uafamily')\n",
    "ax.legend(loc='right', title=\"uafamily\")\n",
    "plt.show()"
   ]
  },
  {
   "cell_type": "code",
   "execution_count": 279,
   "id": "f436f108",
   "metadata": {},
   "outputs": [
    {
     "data": {
      "image/png": "[encoded data removed]",
      "text/plain": [
       "<Figure size 1440x360 with 1 Axes>"
      ]
     },
     "metadata": {
      "needs_background": "light"
     },
     "output_type": "display_data"
    }
   ],
   "source": [
    "plt.subplots(figsize = (20,5))\n",
    "ax = sns.countplot(x='Cluster',hue=\"uamajor\", data = bh1)\n",
    "ax.set_title('uamajor')\n",
    "ax.legend(loc='right', title=\"uamajor\")\n",
    "plt.show()"
   ]
  },
  {
   "cell_type": "code",
   "execution_count": 1,
   "id": "d611b8d8",
   "metadata": {},
   "outputs": [],
   "source": [
    "import numpy as np\n",
    "from scipy.spatial.distance import euclidean, cdist\n",
    "from scipy.sparse.csgraph import minimum_spanning_tree\n",
    "from scipy.sparse import csgraph\n",
    "\n",
    "\n",
    "def DBCV(X, labels, dist_function=euclidean):\n",
    "    \"\"\"\n",
    "    Density Based clustering validation\n",
    "    Args:\n",
    "        X (np.ndarray): ndarray with dimensions [n_samples, n_features]\n",
    "            data to check validity of clustering\n",
    "        labels (np.array): clustering assignments for data X\n",
    "        dist_dunction (func): function to determine distance between objects\n",
    "            func args must be [np.array, np.array] where each array is a point\n",
    "    Returns: cluster_validity (float)\n",
    "        score in range[-1, 1] indicating validity of clustering assignments\n",
    "    \"\"\"\n",
    "    graph = _mutual_reach_dist_graph(X, labels, dist_function)\n",
    "    mst = _mutual_reach_dist_MST(graph)\n",
    "    cluster_validity = _clustering_validity_index(mst, labels)\n",
    "    return cluster_validity\n",
    "\n",
    "\n",
    "def _core_dist(point, neighbors, dist_function):\n",
    "    \"\"\"\n",
    "    Computes the core distance of a point.\n",
    "    Core distance is the inverse density of an object.\n",
    "    Args:\n",
    "        point (np.array): array of dimensions (n_features,)\n",
    "            point to compute core distance of\n",
    "        neighbors (np.ndarray): array of dimensions (n_neighbors, n_features):\n",
    "            array of all other points in object class\n",
    "        dist_dunction (func): function to determine distance between objects\n",
    "            func args must be [np.array, np.array] where each array is a point\n",
    "    Returns: core_dist (float)\n",
    "        inverse density of point\n",
    "    \"\"\"\n",
    "    n_features = np.shape(point)[0]\n",
    "    n_neighbors = np.shape(neighbors)[0]\n",
    "\n",
    "    distance_vector = cdist(point.reshape(1, -1), neighbors)\n",
    "    distance_vector = distance_vector[distance_vector != 0]\n",
    "    numerator = ((1/distance_vector)**n_features).sum()\n",
    "    core_dist = (numerator / (n_neighbors - 1)) ** (-1/n_features)\n",
    "    return core_dist\n",
    "\n",
    "\n",
    "def _mutual_reachability_dist(point_i, point_j, neighbors_i,\n",
    "                              neighbors_j, dist_function):\n",
    "    \"\"\".\n",
    "    Computes the mutual reachability distance between points\n",
    "    Args:\n",
    "        point_i (np.array): array of dimensions (n_features,)\n",
    "            point i to compare to point j\n",
    "        point_j (np.array): array of dimensions (n_features,)\n",
    "            point i to compare to point i\n",
    "        neighbors_i (np.ndarray): array of dims (n_neighbors, n_features):\n",
    "            array of all other points in object class of point i\n",
    "        neighbors_j (np.ndarray): array of dims (n_neighbors, n_features):\n",
    "            array of all other points in object class of point j\n",
    "        dist_dunction (func): function to determine distance between objects\n",
    "            func args must be [np.array, np.array] where each array is a point\n",
    "    Returns: mutual_reachability (float)\n",
    "        mutual reachability between points i and j\n",
    "    \"\"\"\n",
    "    core_dist_i = _core_dist(point_i, neighbors_i, dist_function)\n",
    "    core_dist_j = _core_dist(point_j, neighbors_j, dist_function)\n",
    "    dist = dist_function(point_i, point_j)\n",
    "    mutual_reachability = np.max([core_dist_i, core_dist_j, dist])\n",
    "    return mutual_reachability\n",
    "\n",
    "\n",
    "def _mutual_reach_dist_graph(X, labels, dist_function):\n",
    "    \"\"\"\n",
    "    Computes the mutual reach distance complete graph.\n",
    "    Graph of all pair-wise mutual reachability distances between points\n",
    "    Args:\n",
    "        X (np.ndarray): ndarray with dimensions [n_samples, n_features]\n",
    "            data to check validity of clustering\n",
    "        labels (np.array): clustering assignments for data X\n",
    "        dist_dunction (func): function to determine distance between objects\n",
    "            func args must be [np.array, np.array] where each array is a point\n",
    "    Returns: graph (np.ndarray)\n",
    "        array of dimensions (n_samples, n_samples)\n",
    "        Graph of all pair-wise mutual reachability distances between points.\n",
    "    \"\"\"\n",
    "    n_samples = np.shape(X)[0]\n",
    "    graph = []\n",
    "    counter = 0\n",
    "    for row in range(n_samples):\n",
    "        graph_row = []\n",
    "        for col in range(n_samples):\n",
    "            point_i = X[row]\n",
    "            point_j = X[col]\n",
    "            class_i = labels[row]\n",
    "            class_j = labels[col]\n",
    "            members_i = _get_label_members(X, labels, class_i)\n",
    "            members_j = _get_label_members(X, labels, class_j)\n",
    "            dist = _mutual_reachability_dist(point_i, point_j,\n",
    "                                             members_i, members_j,\n",
    "                                             dist_function)\n",
    "            graph_row.append(dist)\n",
    "        counter += 1\n",
    "        graph.append(graph_row)\n",
    "    graph = np.array(graph)\n",
    "    return graph\n",
    "\n",
    "\n",
    "def _mutual_reach_dist_MST(dist_tree):\n",
    "    \"\"\"\n",
    "    Computes minimum spanning tree of the mutual reach distance complete graph\n",
    "    Args:\n",
    "        dist_tree (np.ndarray): array of dimensions (n_samples, n_samples)\n",
    "            Graph of all pair-wise mutual reachability distances\n",
    "            between points.\n",
    "    Returns: minimum_spanning_tree (np.ndarray)\n",
    "        array of dimensions (n_samples, n_samples)\n",
    "        minimum spanning tree of all pair-wise mutual reachability\n",
    "            distances between points.\n",
    "    \"\"\"\n",
    "    mst = minimum_spanning_tree(dist_tree).toarray()\n",
    "    return mst + np.transpose(mst)\n",
    "\n",
    "\n",
    "def _cluster_density_sparseness(MST, labels, cluster):\n",
    "    \"\"\"\n",
    "    Computes the cluster density sparseness, the minimum density\n",
    "        within a cluster\n",
    "    Args:\n",
    "        MST (np.ndarray): minimum spanning tree of all pair-wise\n",
    "            mutual reachability distances between points.\n",
    "        labels (np.array): clustering assignments for data X\n",
    "        cluster (int): cluster of interest\n",
    "    Returns: cluster_density_sparseness (float)\n",
    "        value corresponding to the minimum density within a cluster\n",
    "    \"\"\"\n",
    "    indices = np.where(labels == cluster)[0]\n",
    "    cluster_MST = MST[indices][:, indices]\n",
    "    cluster_density_sparseness = np.max(cluster_MST)\n",
    "    return cluster_density_sparseness\n",
    "\n",
    "\n",
    "def _cluster_density_separation(MST, labels, cluster_i, cluster_j):\n",
    "    \"\"\"\n",
    "    Computes the density separation between two clusters, the maximum\n",
    "        density between clusters.\n",
    "    Args:\n",
    "        MST (np.ndarray): minimum spanning tree of all pair-wise\n",
    "            mutual reachability distances between points.\n",
    "        labels (np.array): clustering assignments for data X\n",
    "        cluster_i (int): cluster i of interest\n",
    "        cluster_j (int): cluster j of interest\n",
    "    Returns: density_separation (float):\n",
    "        value corresponding to the maximum density between clusters\n",
    "    \"\"\"\n",
    "    indices_i = np.where(labels == cluster_i)[0]\n",
    "    indices_j = np.where(labels == cluster_j)[0]\n",
    "    shortest_paths = csgraph.dijkstra(MST, indices=indices_i)\n",
    "    relevant_paths = shortest_paths[:, indices_j]\n",
    "    density_separation = np.min(relevant_paths)\n",
    "    return density_separation\n",
    "\n",
    "\n",
    "def _cluster_validity_index(MST, labels, cluster):\n",
    "    \"\"\"\n",
    "    Computes the validity of a cluster (validity of assignmnets)\n",
    "    Args:\n",
    "        MST (np.ndarray): minimum spanning tree of all pair-wise\n",
    "            mutual reachability distances between points.\n",
    "        labels (np.array): clustering assignments for data X\n",
    "        cluster (int): cluster of interest\n",
    "    Returns: cluster_validity (float)\n",
    "        value corresponding to the validity of cluster assignments\n",
    "    \"\"\"\n",
    "    min_density_separation = np.inf\n",
    "    for cluster_j in np.unique(labels):\n",
    "        if cluster_j != cluster:\n",
    "            cluster_density_separation = _cluster_density_separation(MST,\n",
    "                                                                     labels,\n",
    "                                                                     cluster,\n",
    "                                                                     cluster_j)\n",
    "            if cluster_density_separation < min_density_separation:\n",
    "                min_density_separation = cluster_density_separation\n",
    "    cluster_density_sparseness = _cluster_density_sparseness(MST,\n",
    "                                                             labels,\n",
    "                                                             cluster)\n",
    "    numerator = min_density_separation - cluster_density_sparseness\n",
    "    denominator = np.max([min_density_separation, cluster_density_sparseness])\n",
    "    cluster_validity = numerator / denominator\n",
    "    return cluster_validity\n",
    "\n",
    "\n",
    "def _clustering_validity_index(MST, labels):\n",
    "    \"\"\"\n",
    "    Computes the validity of all clustering assignments for a\n",
    "    clustering algorithm\n",
    "    Args:\n",
    "        MST (np.ndarray): minimum spanning tree of all pair-wise\n",
    "            mutual reachability distances between points.\n",
    "        labels (np.array): clustering assignments for data X\n",
    "    Returns: validity_index (float):\n",
    "        score in range[-1, 1] indicating validity of clustering assignments\n",
    "    \"\"\"\n",
    "    n_samples = len(labels)\n",
    "    validity_index = 0\n",
    "    for label in np.unique(labels):\n",
    "        fraction = np.sum(labels == label) / float(n_samples)\n",
    "        cluster_validity = _cluster_validity_index(MST, labels, label)\n",
    "        validity_index += fraction * cluster_validity\n",
    "    return validity_index\n",
    "\n",
    "\n",
    "def _get_label_members(X, labels, cluster):\n",
    "    \"\"\"\n",
    "    Helper function to get samples of a specified cluster.\n",
    "    Args:\n",
    "        X (np.ndarray): ndarray with dimensions [n_samples, n_features]\n",
    "            data to check validity of clustering\n",
    "        labels (np.array): clustering assignments for data X\n",
    "        cluster (int): cluster of interest\n",
    "    Returns: members (np.ndarray)\n",
    "        array of dimensions (n_samples, n_features) of samples of the\n",
    "        specified cluster.\n",
    "    \"\"\"\n",
    "    indices = np.where(labels == cluster)[0]\n",
    "    members = X[indices]\n",
    "    return members"
   ]
  }
 ],
 "metadata": {
  "kernelspec": {
   "display_name": "Python 3 (ipykernel)",
   "language": "python",
   "name": "python3"
  },
  "language_info": {
   "codemirror_mode": {
    "name": "ipython",
    "version": 3
   },
   "file_extension": ".py",
   "mimetype": "text/x-python",
   "name": "python",
   "nbconvert_exporter": "python",
   "pygments_lexer": "ipython3",
   "version": "3.9.7"
  }
 },
 "nbformat": 4,
 "nbformat_minor": 5
}
